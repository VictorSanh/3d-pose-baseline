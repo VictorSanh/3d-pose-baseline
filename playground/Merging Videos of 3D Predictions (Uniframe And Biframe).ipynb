{
 "cells": [
  {
   "cell_type": "code",
   "execution_count": 15,
   "metadata": {},
   "outputs": [
    {
     "name": "stdout",
     "output_type": "stream",
     "text": [
      "Once deleted, variables cannot be recovered. Proceed (y/[n])? y\n"
     ]
    }
   ],
   "source": [
    "%reset"
   ]
  },
  {
   "cell_type": "code",
   "execution_count": 16,
   "metadata": {},
   "outputs": [],
   "source": [
    "data_dir = '../data/h36m/'\n",
    "to_merge = [(\"Greeting 1.60457274.h5-sh\", 9),\n",
    "            (\"Photo.58860488.h5-sh\", 9),\n",
    "            (\"Directions 1.54138969.h5-sh\", 9),\n",
    "            (\"Purchases 1.55011271.h5-sh\", 9),\n",
    "            (\"Greeting.54138969.h5-sh\", 11),\n",
    "            (\"Discussion 1.55011271.h5-sh\", 11),\n",
    "            (\"Eating 1.55011271.h5-sh\", 11),\n",
    "            (\"Purchases 1.55011271.h5-sh\", 11)]"
   ]
  },
  {
   "cell_type": "markdown",
   "metadata": {},
   "source": [
    "# If not done, create video of 2D (SH) predictions\n",
    "\n",
    "ffmpeg -framerate 50 -i 2Destimate/%d.png -c:v libx264 -profile:v high -crf 20 -pix_fmt yuv420p 2D_estimate_video.mp4"
   ]
  },
  {
   "cell_type": "markdown",
   "metadata": {},
   "source": [
    "# If not done, create video of 3D (Uniframe AND Biframe) predictions\n",
    "\n",
    "ffmpeg -framerate 50 -i 3Destimate/%d.png -c:v libx264 -profile:v high -crf 20 -pix_fmt yuv420p 3D_estimate_video.mp4"
   ]
  },
  {
   "cell_type": "code",
   "execution_count": 17,
   "metadata": {},
   "outputs": [],
   "source": [
    "from moviepy.editor import VideoFileClip, clips_array, vfx, TextClip, CompositeVideoClip"
   ]
  },
  {
   "cell_type": "code",
   "execution_count": 18,
   "metadata": {},
   "outputs": [],
   "source": [
    "def merge_videos(subject, fname):\n",
    "    seqname = fname.replace('h5-sh', 'mp4')\n",
    "    subject_data_dir = data_dir + 'S' + str(subject) + '/'\n",
    "\n",
    "    #Raw Video: Charge Resize Margin and Prepare Legend\n",
    "    raw_video = VideoFileClip(subject_data_dir + 'RawVideo/' + seqname)\n",
    "    raw_video = raw_video.resize(width = 700)\n",
    "    raw_video = raw_video.margin(10)\n",
    "    text_raw = TextClip(\"Raw Video\", color=\"white\", fontsize=30)\n",
    "    text_raw = text_raw.set_pos((15, 25))\n",
    "    text_raw = text_raw.set_duration(raw_video.duration)\n",
    "    raw_video = CompositeVideoClip([raw_video, text_raw])\n",
    "\n",
    "    #2D SH Predictions\n",
    "    pred_2D = VideoFileClip(subject_data_dir + 'Video/' + fname + '/2D_estimate_video.mp4')\n",
    "    pred_2D = pred_2D.margin(10)\n",
    "    text_2D = TextClip(\"2D Predictions (SH)\", color=\"black\", fontsize=30)\n",
    "    text_2D = text_2D.set_pos((15,25))\n",
    "    text_2D = text_2D.set_duration(pred_2D.duration)\n",
    "    pred_2D = CompositeVideoClip([pred_2D, text_2D])\n",
    "\n",
    "    #3D Uniframe Predictions\n",
    "    pred_3D = VideoFileClip(subject_data_dir + 'Video/' + fname + '/3D_estimate_video.mp4')\n",
    "    pred_3D = pred_3D.margin(10)\n",
    "    text_uniframe = TextClip(\"3D Predictions (Uniframe)\", color=\"black\", fontsize=30)\n",
    "    text_uniframe = text_uniframe.set_pos((15,25))\n",
    "    text_uniframe = text_uniframe.set_duration(pred_3D.duration)\n",
    "    pred_3D = CompositeVideoClip([pred_3D, text_uniframe])\n",
    "\n",
    "    #3D Biframe Predictions\n",
    "    pred_3D_biframe = VideoFileClip(subject_data_dir + 'VideoBiframe/' + fname + '/3D_estimate_video.mp4')\n",
    "    pred_3D_biframe = pred_3D_biframe.margin(10)\n",
    "    text_biframe = TextClip(\"3D Predictions (Biframe)\", color=\"black\", fontsize=30)\n",
    "    text_biframe = text_biframe.set_pos((15,25))\n",
    "    text_biframe = text_biframe.set_duration(pred_3D_biframe.duration)\n",
    "    pred_3D_biframe = CompositeVideoClip([pred_3D_biframe, text_biframe])\n",
    "\n",
    "    #Merge the videos\n",
    "    final_clip = clips_array([[raw_video, pred_2D], \n",
    "                             [pred_3D, pred_3D_biframe]])\n",
    "\n",
    "    final_clip.write_videofile(subject_data_dir + 'UniframeVsBiframe/' + seqname )\n",
    "    \n",
    "    print('Subject: {} - Fname: {} - Finished'.format(subject, fname))"
   ]
  },
  {
   "cell_type": "code",
   "execution_count": 19,
   "metadata": {
    "scrolled": true
   },
   "outputs": [
    {
     "name": "stdout",
     "output_type": "stream",
     "text": [
      "[MoviePy] >>>> Building video ../data/h36m/S9/UniframeVsBiframe/Greeting 1.60457274.mp4\n",
      "[MoviePy] Writing video ../data/h36m/S9/UniframeVsBiframe/Greeting 1.60457274.mp4\n"
     ]
    },
    {
     "name": "stderr",
     "output_type": "stream",
     "text": [
      "100%|█████████▉| 2712/2713 [06:57<00:00,  6.50it/s]\n"
     ]
    },
    {
     "name": "stdout",
     "output_type": "stream",
     "text": [
      "[MoviePy] Done.\n",
      "[MoviePy] >>>> Video ready: ../data/h36m/S9/UniframeVsBiframe/Greeting 1.60457274.mp4 \n",
      "\n",
      "Subject: 9 - Fname: Greeting 1.60457274.h5-sh - Finished\n",
      "[MoviePy] >>>> Building video ../data/h36m/S9/UniframeVsBiframe/Photo.58860488.mp4\n",
      "[MoviePy] Writing video ../data/h36m/S9/UniframeVsBiframe/Photo.58860488.mp4\n"
     ]
    },
    {
     "name": "stderr",
     "output_type": "stream",
     "text": [
      "100%|█████████▉| 2350/2351 [05:33<00:00,  9.79it/s]\n"
     ]
    },
    {
     "name": "stdout",
     "output_type": "stream",
     "text": [
      "[MoviePy] Done.\n",
      "[MoviePy] >>>> Video ready: ../data/h36m/S9/UniframeVsBiframe/Photo.58860488.mp4 \n",
      "\n",
      "Subject: 9 - Fname: Photo.58860488.h5-sh - Finished\n",
      "[MoviePy] >>>> Building video ../data/h36m/S9/UniframeVsBiframe/Directions 1.54138969.mp4\n",
      "[MoviePy] Writing video ../data/h36m/S9/UniframeVsBiframe/Directions 1.54138969.mp4\n"
     ]
    },
    {
     "name": "stderr",
     "output_type": "stream",
     "text": [
      "100%|█████████▉| 2357/2358 [06:27<00:00,  6.08it/s]\n"
     ]
    },
    {
     "name": "stdout",
     "output_type": "stream",
     "text": [
      "[MoviePy] Done.\n",
      "[MoviePy] >>>> Video ready: ../data/h36m/S9/UniframeVsBiframe/Directions 1.54138969.mp4 \n",
      "\n",
      "Subject: 9 - Fname: Directions 1.54138969.h5-sh - Finished\n",
      "[MoviePy] >>>> Building video ../data/h36m/S9/UniframeVsBiframe/Purchases 1.55011271.mp4\n",
      "[MoviePy] Writing video ../data/h36m/S9/UniframeVsBiframe/Purchases 1.55011271.mp4\n"
     ]
    },
    {
     "name": "stderr",
     "output_type": "stream",
     "text": [
      "100%|█████████▉| 1228/1229 [02:51<00:00,  8.42it/s]\n"
     ]
    },
    {
     "name": "stdout",
     "output_type": "stream",
     "text": [
      "[MoviePy] Done.\n",
      "[MoviePy] >>>> Video ready: ../data/h36m/S9/UniframeVsBiframe/Purchases 1.55011271.mp4 \n",
      "\n",
      "Subject: 9 - Fname: Purchases 1.55011271.h5-sh - Finished\n",
      "[MoviePy] >>>> Building video ../data/h36m/S11/UniframeVsBiframe/Greeting.54138969.mp4\n",
      "[MoviePy] Writing video ../data/h36m/S11/UniframeVsBiframe/Greeting.54138969.mp4\n"
     ]
    },
    {
     "name": "stderr",
     "output_type": "stream",
     "text": [
      "100%|█████████▉| 1809/1810 [05:00<00:00,  6.01it/s]\n"
     ]
    },
    {
     "name": "stdout",
     "output_type": "stream",
     "text": [
      "[MoviePy] Done.\n",
      "[MoviePy] >>>> Video ready: ../data/h36m/S11/UniframeVsBiframe/Greeting.54138969.mp4 \n",
      "\n",
      "Subject: 11 - Fname: Greeting.54138969.h5-sh - Finished\n",
      "[MoviePy] >>>> Building video ../data/h36m/S11/UniframeVsBiframe/Discussion 1.55011271.mp4\n",
      "[MoviePy] Writing video ../data/h36m/S11/UniframeVsBiframe/Discussion 1.55011271.mp4\n"
     ]
    },
    {
     "name": "stderr",
     "output_type": "stream",
     "text": [
      "100%|█████████▉| 2688/2689 [06:21<00:00,  9.67it/s]\n"
     ]
    },
    {
     "name": "stdout",
     "output_type": "stream",
     "text": [
      "[MoviePy] Done.\n",
      "[MoviePy] >>>> Video ready: ../data/h36m/S11/UniframeVsBiframe/Discussion 1.55011271.mp4 \n",
      "\n",
      "Subject: 11 - Fname: Discussion 1.55011271.h5-sh - Finished\n",
      "[MoviePy] >>>> Building video ../data/h36m/S11/UniframeVsBiframe/Eating 1.55011271.mp4\n",
      "[MoviePy] Writing video ../data/h36m/S11/UniframeVsBiframe/Eating 1.55011271.mp4\n"
     ]
    },
    {
     "name": "stderr",
     "output_type": "stream",
     "text": [
      "100%|█████████▉| 2278/2279 [05:28<00:00,  6.94it/s]\n"
     ]
    },
    {
     "name": "stdout",
     "output_type": "stream",
     "text": [
      "[MoviePy] Done.\n",
      "[MoviePy] >>>> Video ready: ../data/h36m/S11/UniframeVsBiframe/Eating 1.55011271.mp4 \n",
      "\n",
      "Subject: 11 - Fname: Eating 1.55011271.h5-sh - Finished\n",
      "[MoviePy] >>>> Building video ../data/h36m/S11/UniframeVsBiframe/Purchases 1.55011271.mp4\n",
      "[MoviePy] Writing video ../data/h36m/S11/UniframeVsBiframe/Purchases 1.55011271.mp4\n"
     ]
    },
    {
     "name": "stderr",
     "output_type": "stream",
     "text": [
      "100%|█████████▉| 1029/1030 [02:35<00:00,  6.62it/s]\n"
     ]
    },
    {
     "name": "stdout",
     "output_type": "stream",
     "text": [
      "[MoviePy] Done.\n",
      "[MoviePy] >>>> Video ready: ../data/h36m/S11/UniframeVsBiframe/Purchases 1.55011271.mp4 \n",
      "\n",
      "Subject: 11 - Fname: Purchases 1.55011271.h5-sh - Finished\n"
     ]
    }
   ],
   "source": [
    "for (fname, subject) in to_merge:\n",
    "    merge_videos(subject, fname)"
   ]
  },
  {
   "cell_type": "code",
   "execution_count": null,
   "metadata": {},
   "outputs": [],
   "source": []
  }
 ],
 "metadata": {
  "kernelspec": {
   "display_name": "Python 3",
   "language": "python",
   "name": "python3"
  },
  "language_info": {
   "codemirror_mode": {
    "name": "ipython",
    "version": 3
   },
   "file_extension": ".py",
   "mimetype": "text/x-python",
   "name": "python",
   "nbconvert_exporter": "python",
   "pygments_lexer": "ipython3",
   "version": "3.5.2"
  }
 },
 "nbformat": 4,
 "nbformat_minor": 2
}
