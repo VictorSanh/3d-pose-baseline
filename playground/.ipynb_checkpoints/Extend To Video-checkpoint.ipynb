{
 "cells": [
  {
   "cell_type": "code",
   "execution_count": 1,
   "metadata": {},
   "outputs": [
    {
     "name": "stdout",
     "output_type": "stream",
     "text": [
      "Once deleted, variables cannot be recovered. Proceed (y/[n])? y\n"
     ]
    }
   ],
   "source": [
    "%reset"
   ]
  },
  {
   "cell_type": "code",
   "execution_count": 1,
   "metadata": {},
   "outputs": [
    {
     "name": "stdout",
     "output_type": "stream",
     "text": [
      "train_dir is :  experiments_biframe/All/dropout_1/epochs_200/lr_0.001/not_residual/depth_2/linear_size1024/batch_size_64/no_procrustes/no_maxnorm/no_batch_normalization/not_stacked_hourglass/predict_17\n"
     ]
    }
   ],
   "source": [
    "from __future__ import absolute_import\n",
    "from __future__ import division\n",
    "from __future__ import print_function\n",
    "\n",
    "import math\n",
    "import os\n",
    "import random\n",
    "import sys\n",
    "import time\n",
    "import h5py\n",
    "import copy\n",
    "import glob \n",
    "\n",
    "sys.path.insert(0, \"../src\")\n",
    "\n",
    "import numpy as np\n",
    "from six.moves import xrange  # pylint: disable=redefined-builtin\n",
    "import tensorflow as tf\n",
    "import procrustes\n",
    "\n",
    "import viz\n",
    "import cameras\n",
    "import data_utils\n",
    "import linear_model_biframe\n",
    "import predict_3dpose_biframe\n",
    "\n",
    "import argparse\n",
    "parser = argparse.ArgumentParser()\n",
    "\n",
    "parser.add_argument(\"--learning_rate\", type=float, default=1e-3)\n",
    "parser.add_argument(\"--dropout\", type=float, default=0.5)\n",
    "parser.add_argument(\"--batch_size\", type=int, default=64)\n",
    "parser.add_argument(\"--epochs\", type=int, default=225)\n",
    "parser.add_argument(\"--camera_frame\", type=bool, default=True)\n",
    "parser.add_argument(\"--max_norm\", type=bool, default=True)\n",
    "parser.add_argument(\"--batch_norm\", type=bool, default=True)\n",
    "\n",
    "parser.add_argument(\"--predict_14\", type=bool, default=False)\n",
    "parser.add_argument(\"--use_sh\", type=bool, default=False)\n",
    "parser.add_argument(\"--action\", default=\"All\")\n",
    "\n",
    "parser.add_argument(\"--linear_size\", type=int, default=1024)\n",
    "parser.add_argument(\"--num_layers\", type=int, default=3)\n",
    "parser.add_argument(\"--residual\", type=bool, default=True)\n",
    "\n",
    "parser.add_argument(\"--procrustes\", type=bool, default=False)\n",
    "parser.add_argument(\"--evaluateActionWise\", type=bool, default=False)\n",
    "\n",
    "parser.add_argument(\"--cameras_path\", default=\"../data/h36m/cameras.h5\")\n",
    "parser.add_argument(\"--data_dir\", default=\"../data/video/\")\n",
    "parser.add_argument(\"--train_dir\", default=\"../experiments_biframe\")\n",
    "\n",
    "parser.add_argument(\"--sample\", type=bool, default=False)\n",
    "parser.add_argument(\"--sample_specific\", type=bool, default=False)\n",
    "parser.add_argument(\"--use_cpu\", type=bool, default=False)\n",
    "parser.add_argument(\"--load\", type=int, default=685125)\n",
    "\n",
    "parser.add_argument(\"--use_fp16\", type=bool, default=False)\n",
    "\n",
    "FLAGS, _ = parser.parse_known_args()"
   ]
  },
  {
   "cell_type": "code",
   "execution_count": 2,
   "metadata": {},
   "outputs": [],
   "source": [
    "# Joints in H3.6M -- data has 32 joints, but only 17 that move; these are the indices.\n",
    "H36M_NAMES = ['']*32\n",
    "H36M_NAMES[0]  = 'Hip'\n",
    "H36M_NAMES[1]  = 'RHip'\n",
    "H36M_NAMES[2]  = 'RKnee'\n",
    "H36M_NAMES[3]  = 'RFoot'\n",
    "H36M_NAMES[6]  = 'LHip'\n",
    "H36M_NAMES[7]  = 'LKnee'\n",
    "H36M_NAMES[8]  = 'LFoot'\n",
    "H36M_NAMES[12] = 'Spine'\n",
    "H36M_NAMES[13] = 'Thorax'\n",
    "H36M_NAMES[14] = 'Neck/Nose'\n",
    "H36M_NAMES[15] = 'Head'\n",
    "H36M_NAMES[17] = 'LShoulder'\n",
    "H36M_NAMES[18] = 'LElbow'\n",
    "H36M_NAMES[19] = 'LWrist'\n",
    "H36M_NAMES[25] = 'RShoulder'\n",
    "H36M_NAMES[26] = 'RElbow'\n",
    "H36M_NAMES[27] = 'RWrist'\n",
    "\n",
    "# Stacked Hourglass produces 16 joints. These are the names.\n",
    "SH_NAMES = ['']*16\n",
    "SH_NAMES[0]  = 'RFoot'\n",
    "SH_NAMES[1]  = 'RKnee'\n",
    "SH_NAMES[2]  = 'RHip'\n",
    "SH_NAMES[3]  = 'LHip'\n",
    "SH_NAMES[4]  = 'LKnee'\n",
    "SH_NAMES[5]  = 'LFoot'\n",
    "SH_NAMES[6]  = 'Hip'\n",
    "SH_NAMES[7]  = 'Spine'\n",
    "SH_NAMES[8]  = 'Thorax'\n",
    "SH_NAMES[9]  = 'Head'\n",
    "SH_NAMES[10] = 'RWrist'\n",
    "SH_NAMES[11] = 'RElbow'\n",
    "SH_NAMES[12] = 'RShoulder'\n",
    "SH_NAMES[13] = 'LShoulder'\n",
    "SH_NAMES[14] = 'LElbow'\n",
    "SH_NAMES[15] = 'LWrist'"
   ]
  },
  {
   "cell_type": "code",
   "execution_count": 3,
   "metadata": {},
   "outputs": [
    {
     "data": {
      "text/plain": [
       "{(11, 1): (array([[-0.9059013 ,  0.42171441,  0.03872711],\n",
       "         [ 0.04449318,  0.18571991, -0.98159486],\n",
       "         [-0.42114509, -0.88750497, -0.18700732]]), array([[ 2098.44023766],\n",
       "         [ 4926.55465688],\n",
       "         [ 1500.27857413]]), array([[ 1145.04940459],\n",
       "         [ 1143.78109572]]), array([[ 512.54150496],\n",
       "         [ 515.45148698]]), array([[-0.20709891],\n",
       "         [ 0.24777518],\n",
       "         [-0.00307515]]), array([[-0.00142447],\n",
       "         [-0.0009757 ]]), '54138969'),\n",
       " (11, 2): (array([[ 0.92166465,  0.38798487, -0.00141729],\n",
       "         [ 0.07721055, -0.1869924 , -0.97932241],\n",
       "         [-0.3802273 ,  0.90249741, -0.20230081]]), array([[ 2083.1824007 ],\n",
       "         [-4912.17282366],\n",
       "         [ 1561.07857908]]), array([[ 1149.67569987],\n",
       "         [ 1147.59161667]]), array([[ 508.84862165],\n",
       "         [ 508.06491709]]), array([[-0.19421363],\n",
       "         [ 0.24040854],\n",
       "         [ 0.00681998]]), array([[-0.00274089],\n",
       "         [-0.00161903]]), '55011271'),\n",
       " (11, 3): (array([[-0.90635406, -0.42053102, -0.04093881],\n",
       "         [-0.06032122,  0.22468715, -0.9725621 ],\n",
       "         [ 0.41819095, -0.87901612, -0.22901305]]), array([[-1609.8153431 ],\n",
       "         [ 5177.33597263],\n",
       "         [ 1537.89671534]]), array([[ 1149.14071676],\n",
       "         [ 1148.79896857]]), array([[ 519.81583718],\n",
       "         [ 501.40265889]]), array([[-0.20833819],\n",
       "         [ 0.25548801],\n",
       "         [-0.0024605 ]]), array([[-0.00076   ],\n",
       "         [ 0.00148439]]), '58860488'),\n",
       " (11, 4): (array([[ 0.91754082, -0.39226322,  0.06517976],\n",
       "         [-0.04531905, -0.26600517, -0.96290572],\n",
       "         [ 0.39505065,  0.88055143, -0.2618476 ]]), array([[-1590.73799072],\n",
       "         [-3854.16900369],\n",
       "         [ 1578.01760714]]), array([[ 1145.51133842],\n",
       "         [ 1144.77392808]]), array([[ 514.96819732],\n",
       "         [ 501.88201854]]), array([[-0.19838409],\n",
       "         [ 0.21832368],\n",
       "         [-0.00894781]]), array([[-0.00181336],\n",
       "         [-0.00058721]]), '60457274')}"
      ]
     },
     "execution_count": 3,
     "metadata": {},
     "output_type": "execute_result"
    }
   ],
   "source": [
    "actions = data_utils.define_actions(\"WalkDog\")\n",
    "\n",
    "# Load camera parameters\n",
    "SUBJECT_IDS = [11]\n",
    "rcams = cameras.load_cameras(FLAGS.cameras_path, SUBJECT_IDS)\n",
    "\n",
    "TEST_SUBJECTS = [11]\n",
    "\n",
    "rcams"
   ]
  },
  {
   "cell_type": "code",
   "execution_count": 6,
   "metadata": {},
   "outputs": [
    {
     "name": "stdout",
     "output_type": "stream",
     "text": [
      "Reading subject 11, action WalkDog\n",
      "dpath ../data/video/S11/StackedHourglass/WalkDog*.h5\n",
      "fnames ['../data/video/S11/StackedHourglass/WalkDog2.h5', '../data/video/S11/StackedHourglass/WalkDog1.h5']\n",
      "seqname WalkDog2.h5\n",
      "seqname WalkDog1.h5\n"
     ]
    }
   ],
   "source": [
    "SH_TO_GT_PERM = np.array([SH_NAMES.index( h ) for h in H36M_NAMES if h != '' and h in SH_NAMES])\n",
    "assert np.all( SH_TO_GT_PERM == np.array([6,2,1,0,3,4,5,7,8,9,13,14,15,12,11,10]) )\n",
    "\n",
    "data = {}\n",
    "\n",
    "subj = TEST_SUBJECTS[0]\n",
    "action = actions[0]\n",
    "\n",
    "print('Reading subject {0}, action {1}'.format(subj, action))\n",
    "dpath = os.path.join( FLAGS.data_dir, 'S{0}'.format(subj), 'StackedHourglass/{0}*.h5'.format(action) )\n",
    "print('dpath {}'.format(dpath))\n",
    "\n",
    "fnames = glob.glob( dpath )\n",
    "print('fnames {}'.format(fnames))\n",
    "\n",
    "for fname in fnames:\n",
    "\n",
    "    seqname = os.path.basename( fname )\n",
    "    seqname = seqname.replace('_',' ')\n",
    "    print('seqname {}'.format(seqname))\n",
    "\n",
    "\n",
    "    poses = h5py.File( fname, 'r' )\n",
    "    poses = np.array(poses['preds'])\n",
    "\n",
    "    # Permute the loaded data to make it compatible with H36M\n",
    "    poses = poses[:,SH_TO_GT_PERM,:]\n",
    "\n",
    "    # Reshape into n x (32*2) matrix\n",
    "    poses = np.reshape(poses,[poses.shape[0], -1])\n",
    "    poses_final = np.zeros([poses.shape[0], len(H36M_NAMES)*2])\n",
    "\n",
    "    dim_to_use_x = np.where(np.array([x != '' and x != 'Neck/Nose' for x in H36M_NAMES]))[0] * 2\n",
    "    dim_to_use_y = dim_to_use_x+1\n",
    "\n",
    "    dim_to_use = np.zeros(len(SH_NAMES)*2,dtype=np.int32)\n",
    "    dim_to_use[0::2] = dim_to_use_x\n",
    "    dim_to_use[1::2] = dim_to_use_y\n",
    "    poses_final[:,dim_to_use] = poses\n",
    "\n",
    "    data[(subj, action, seqname)] = poses_final\n",
    "    \n",
    "#Load Stacked Hourglass"
   ]
  },
  {
   "cell_type": "code",
   "execution_count": 7,
   "metadata": {},
   "outputs": [],
   "source": [
    "train_set = data.copy()\n",
    "test_set = data.copy()"
   ]
  },
  {
   "cell_type": "code",
   "execution_count": 8,
   "metadata": {},
   "outputs": [
    {
     "name": "stdout",
     "output_type": "stream",
     "text": [
      "done reading, normalizing data and compute biframe structure.\n"
     ]
    }
   ],
   "source": [
    "complete_train = copy.deepcopy( np.vstack( train_set.values() ))\n",
    "data_mean_2d, data_std_2d,  dim_to_ignore_2d, dim_to_use_2d = data_utils.normalization_stats( complete_train, dim=2 )\n",
    "\n",
    "train_set_2d = data_utils.normalize_data( train_set, data_mean_2d, data_std_2d, dim_to_use_2d )\n",
    "test_set_2d  = data_utils.normalize_data( test_set,  data_mean_2d, data_std_2d, dim_to_use_2d )\n",
    "#End of read_2d_predictions(actions, FLAGS.data_dir)\n",
    "\n",
    "train_set_2d, test_set_2d, data_mean_2d, data_std_2d, dim_to_ignore_2d, dim_to_use_2d = data_utils.transform_to_2d_biframe_prediction(train_set_2d,\n",
    "                                                                                                                                       test_set_2d,\n",
    "                                                                                                                                       data_mean_2d,\n",
    "                                                                                                                                       data_std_2d,\n",
    "                                                                                                                                       dim_to_ignore_2d,\n",
    "                                                                                                                                       dim_to_use_2d)\n",
    "\n",
    "print( \"done reading, normalizing data and compute biframe structure.\" )"
   ]
  },
  {
   "cell_type": "code",
   "execution_count": 9,
   "metadata": {},
   "outputs": [],
   "source": [
    "# fjds = [\"Directions\",\"Discussion\",\"Eating\",\"Greeting\",\n",
    "#            \"Phoning\",\"Photo\",\"Posing\",\"Purchases\",\n",
    "#            \"Sitting\",\"SittingDown\",\"Smoking\",\"Waiting\",\n",
    "#            \"WalkDog\",\"Walking\",\"WalkTogether\"]\n",
    "# train_set_3d, test_set_3d, data_mean_3d, data_std_3d, dim_to_ignore_3d, dim_to_use_3d, train_root_positions, test_root_positions = data_utils.read_3d_data(\n",
    "#     fjds, '../data/hm36/', FLAGS.camera_frame, rcams, FLAGS.predict_14 )"
   ]
  },
  {
   "cell_type": "code",
   "execution_count": 10,
   "metadata": {},
   "outputs": [],
   "source": [
    "data_mean_3d = np.array([  0.00000000e+00,   0.00000000e+00,   0.00000000e+00,\n",
    "         -2.55652589e-01,  -7.11960573e+00,  -9.81433058e-01,\n",
    "         -5.65463051e+00,   3.19636009e+02,   7.19329269e+01,\n",
    "         -1.01705840e+01,   6.91147892e+02,   1.55352986e+02,\n",
    "         -1.15560633e+01,   7.42149725e+02,   1.66477287e+02,\n",
    "         -1.18447102e+01,   7.36763064e+02,   1.65182437e+02,\n",
    "          2.55651315e-01,   7.11954604e+00,   9.81423860e-01,\n",
    "         -5.09729780e+00,   3.27040413e+02,   7.22258095e+01,\n",
    "         -9.99656606e+00,   7.08277383e+02,   1.58016408e+02,\n",
    "         -1.12642400e+01,   7.48636864e+02,   1.66665977e+02,\n",
    "         -1.14090840e+01,   7.36435064e+02,   1.63713810e+02,\n",
    "          1.21660845e-03,  -8.60110629e-02,  -1.93000576e-02,\n",
    "          2.90583676e+00,  -2.11363307e+02,  -4.74210915e+01,\n",
    "          5.67537804e+00,  -4.35088906e+02,  -9.76974016e+01,\n",
    "          5.93884964e+00,  -4.91891970e+02,  -1.10666618e+02,\n",
    "          7.37352083e+00,  -5.83948619e+02,  -1.31171400e+02,\n",
    "          5.67537804e+00,  -4.35088906e+02,  -9.76974016e+01,\n",
    "          5.41920653e+00,  -3.83931702e+02,  -8.68145417e+01,\n",
    "          2.95964663e+00,  -1.87567488e+02,  -4.34536934e+01,\n",
    "          1.26585822e+00,  -1.20170579e+02,  -2.82526049e+01,\n",
    "          1.26585822e+00,  -1.20170579e+02,  -2.82526049e+01,\n",
    "          1.57900698e+00,  -1.51780249e+02,  -3.52080548e+01,\n",
    "          8.84543993e-01,  -1.07795356e+02,  -2.56307189e+01,\n",
    "          8.84543993e-01,  -1.07795356e+02,  -2.56307189e+01,\n",
    "          5.67537804e+00,  -4.35088906e+02,  -9.76974016e+01,\n",
    "          4.67186639e+00,  -3.83644089e+02,  -8.55125784e+01,\n",
    "          1.67648571e+00,  -1.97007177e+02,  -4.31368363e+01,\n",
    "          8.70569014e-01,  -1.68664569e+02,  -3.73902498e+01,\n",
    "          8.70569014e-01,  -1.68664569e+02,  -3.73902498e+01,\n",
    "          1.39982512e+00,  -2.00884252e+02,  -4.47207875e+01,\n",
    "          5.24591115e-01,  -1.65867774e+02,  -3.68342864e+01,\n",
    "          5.24591115e-01,  -1.65867774e+02,  -3.68342864e+01])\n",
    "data_std_3d = np.array([  0.00000000e+00,   0.00000000e+00,   0.00000000e+00,\n",
    "          1.10722440e+02,   2.23881762e+01,   7.24629442e+01,\n",
    "          1.58563111e+02,   1.89338322e+02,   2.08804791e+02,\n",
    "          1.91799352e+02,   2.43200617e+02,   2.47561933e+02,\n",
    "          2.17938049e+02,   2.63285217e+02,   2.96834071e+02,\n",
    "          2.38588944e+02,   2.73101842e+02,   3.28803702e+02,\n",
    "          1.10721807e+02,   2.23880543e+01,   7.24625257e+01,\n",
    "          1.58804541e+02,   1.99771878e+02,   2.14706298e+02,\n",
    "          1.80019441e+02,   2.50527393e+02,   2.48532471e+02,\n",
    "          2.13542308e+02,   2.68186067e+02,   3.01932987e+02,\n",
    "          2.36099537e+02,   2.76896854e+02,   3.35285650e+02,\n",
    "          1.99331720e-02,   3.28409744e-02,   2.74275279e-02,\n",
    "          5.21069402e+01,   5.21140553e+01,   6.90824148e+01,\n",
    "          9.51536654e+01,   1.01330318e+02,   1.28997325e+02,\n",
    "          1.17424577e+02,   1.26484690e+02,   1.64650906e+02,\n",
    "          1.23602966e+02,   1.30855389e+02,   1.64333365e+02,\n",
    "          9.51536654e+01,   1.01330318e+02,   1.28997325e+02,\n",
    "          1.46022319e+02,   9.70795599e+01,   1.39527313e+02,\n",
    "          2.43475318e+02,   1.29822486e+02,   2.02301812e+02,\n",
    "          2.44687700e+02,   2.15018164e+02,   2.39382347e+02,\n",
    "          2.44687700e+02,   2.15018164e+02,   2.39382347e+02,\n",
    "          2.29596780e+02,   2.22589304e+02,   2.34161811e+02,\n",
    "          2.79422487e+02,   2.57310206e+02,   2.80385546e+02,\n",
    "          2.79422487e+02,   2.57310206e+02,   2.80385546e+02,\n",
    "          9.51536654e+01,   1.01330318e+02,   1.28997325e+02,\n",
    "          1.38760844e+02,   1.00892600e+02,   1.42441097e+02,\n",
    "          2.36875290e+02,   1.44912190e+02,   2.09808291e+02,\n",
    "          2.44006949e+02,   2.39750283e+02,   2.55205840e+02,\n",
    "          2.44006949e+02,   2.39750283e+02,   2.55205840e+02,\n",
    "          2.32859559e+02,   2.36910758e+02,   2.47343753e+02,\n",
    "          2.87219983e+02,   3.05741249e+02,   3.08336881e+02,\n",
    "          2.87219983e+02,   3.05741249e+02,   3.08336881e+02])\n",
    "data_std_3d = data_std_3d\n",
    "dim_to_ignore_3d = np.array([ 0,  1,  2, 12, 13, 14, 15, 16, 17, 27, 28, 29, 30, 31, 32, 33, 34,\n",
    "        35, 48, 49, 50, 60, 61, 62, 63, 64, 65, 66, 67, 68, 69, 70, 71, 72,\n",
    "        73, 74, 84, 85, 86, 87, 88, 89, 90, 91, 92, 93, 94, 95])"
   ]
  },
  {
   "cell_type": "code",
   "execution_count": 11,
   "metadata": {},
   "outputs": [
    {
     "name": "stdout",
     "output_type": "stream",
     "text": [
      "Creating 3 layers of 1024 units.\n",
      "Creating model with fresh parameters.\n",
      "Model loaded\n"
     ]
    }
   ],
   "source": [
    "device_count = {\"GPU\": 0} if FLAGS.use_cpu else {\"GPU\": 1}\n",
    "\n",
    "sess = tf.Session(config=tf.ConfigProto( device_count = device_count ))\n",
    "print(\"Creating %d layers of %d units.\" % (FLAGS.num_layers, FLAGS.linear_size))\n",
    "batch_size = FLAGS.batch_size#64 #Intial value was 128\n",
    "model = predict_3dpose_biframe.create_model(sess, actions, batch_size)\n",
    "print(\"Model loaded\")"
   ]
  },
  {
   "cell_type": "code",
   "execution_count": 34,
   "metadata": {},
   "outputs": [
    {
     "name": "stdout",
     "output_type": "stream",
     "text": [
      "Subject: 11, action: WalkDog, fname: WalkDog2.h5\n",
      "Subject: 11, action: WalkDog, fname: WalkDog1.h5\n"
     ]
    }
   ],
   "source": [
    "for key2d in test_set_2d.keys():\n",
    "    (subj, b, fname) = key2d\n",
    "    print( \"Subject: {}, action: {}, fname: {}\".format(subj, b, fname) )\n",
    "\n",
    "    enc_in  = test_set_2d[ key2d ]\n",
    "    n2d, _ = enc_in.shape\n",
    "#         dec_out = test_set_3d[ key3d ]\n",
    "#     n3d, _ = dec_out.shape\n",
    "\n",
    "    enc_in   = np.array_split( enc_in,  n2d // batch_size )\n",
    "#     dec_out  = np.array_split( dec_out, n3d // batch_size )\n",
    "\n",
    "    all_poses_3d = []\n",
    "\n",
    "    for bidx in range( len(enc_in) ):\n",
    "        dp = 1.0\n",
    "        couldBeAnything = np.zeros((enc_in[bidx].shape[0], 48))\n",
    "        _, _, poses3d = model.step(sess, enc_in[bidx], couldBeAnything, dp, isTraining=False) #Predictions\n",
    "\n",
    "        enc_in[bidx]  = data_utils.unNormalizeData( enc_in[bidx], data_mean_2d, data_std_2d, dim_to_ignore_2d )\n",
    "        poses3d = data_utils.unNormalizeData( poses3d, data_mean_3d, data_std_3d, dim_to_ignore_3d )\n",
    "        all_poses_3d.append( poses3d )\n",
    "\n",
    "    # Put all the poses together\n",
    "    enc_in, poses3d = map( np.vstack, [enc_in, all_poses_3d] )\n",
    "    \n",
    "    # Convert back to world coordinates\n",
    "    if FLAGS.camera_frame:\n",
    "        N_CAMERAS = 4\n",
    "        N_JOINTS_H36M = 32\n",
    "\n",
    "        # Load the appropriate camera\n",
    "        subj, _, sname = key2d\n",
    "\n",
    "        cname = \"54138969\"#fname.split(\".\")[0][-1]#sname.split('.')[1] # <-- camera name\n",
    "        scams = {(subj,c+1): rcams[(subj,c+1)] for c in range(N_CAMERAS)} # cams of this subject\n",
    "        scam_idx = [scams[(subj,c+1)][-1] for c in range(N_CAMERAS)].index( cname ) # index of camera used\n",
    "        the_cam  = scams[(subj, scam_idx+1)] # <-- the camera used\n",
    "        R, T, f, c, k, p, name = the_cam\n",
    "        assert name == cname\n",
    "\n",
    "        def cam2world_centered(data_3d_camframe):\n",
    "            data_3d_worldframe = cameras.camera_to_world_frame(data_3d_camframe.reshape((-1, 3)), R, T)\n",
    "            data_3d_worldframe = data_3d_worldframe.reshape((-1, N_JOINTS_H36M*3))\n",
    "            # subtract root translation\n",
    "            return data_3d_worldframe - np.tile( data_3d_worldframe[:,:3], (1,N_JOINTS_H36M) )\n",
    "\n",
    "        # Apply inverse rotation and translation\n",
    "        poses3d = cam2world_centered(poses3d)"
   ]
  },
  {
   "cell_type": "code",
   "execution_count": 35,
   "metadata": {},
   "outputs": [],
   "source": [
    "#54138969 55011271 58860488 60457274"
   ]
  },
  {
   "cell_type": "code",
   "execution_count": 36,
   "metadata": {},
   "outputs": [],
   "source": [
    "# Grab frames to visualize\n",
    "enc_in, poses3d = map( np.vstack, [enc_in, poses3d] )\n",
    "idx = np.random.permutation( enc_in.shape[0] )\n",
    "\n",
    "enc_in, poses3d = enc_in[idx, :], poses3d[idx, :]\n",
    "\n",
    "#To ensure compatibility with image display structure, we drop the past frame\n",
    "enc_in = enc_in[:, 64:]"
   ]
  },
  {
   "cell_type": "code",
   "execution_count": 37,
   "metadata": {},
   "outputs": [
    {
     "data": {
      "image/png": "[encoded data removed]",
      "text/plain": [
       "<matplotlib.figure.Figure at 0x7f7678da97f0>"
      ]
     },
     "metadata": {},
     "output_type": "display_data"
    }
   ],
   "source": [
    "# Visualize random samples\n",
    "import matplotlib.gridspec as gridspec\n",
    "import matplotlib.pyplot as plt\n",
    "\n",
    "# 1080p\t= 1,920 x 1,080\n",
    "fig = plt.figure( figsize=(19.2, 10.8) )\n",
    "\n",
    "gs1 = gridspec.GridSpec(5, 9) # 5 rows, 9 columns\n",
    "gs1.update(wspace=-0.00, hspace=0.05) # set the spacing between axes.\n",
    "plt.axis('off')\n",
    "\n",
    "subplot_idx, exidx = 1, 0\n",
    "nsamples = 15\n",
    "for i in np.arange( nsamples ):\n",
    "\n",
    "    # Plot 2d pose\n",
    "    ax1 = plt.subplot(gs1[subplot_idx-1])\n",
    "    p2d = enc_in[exidx,:]\n",
    "    viz.show2Dpose( p2d, ax1 )\n",
    "    ax1.invert_yaxis()\n",
    "\n",
    "    # Plot 3d gt\n",
    "    ax2= plt.subplot(gs1[subplot_idx])\n",
    "    p2d = enc_in[exidx,:]\n",
    "    viz.show2Dpose( p2d, ax2 )\n",
    "    ax1.invert_yaxis()\n",
    "\n",
    "    # Plot 3d predictions\n",
    "    ax3 = plt.subplot(gs1[subplot_idx+1], projection='3d')\n",
    "    p3d = poses3d[exidx,:]\n",
    "    viz.show3Dpose( p3d, ax3, lcolor=\"#9b59b6\", rcolor=\"#2ecc71\" )\n",
    "\n",
    "    exidx = exidx + 1\n",
    "    subplot_idx = subplot_idx + 3\n",
    "\n",
    "plt.show()"
   ]
  },
  {
   "cell_type": "code",
   "execution_count": null,
   "metadata": {},
   "outputs": [],
   "source": [
    "viz.show2Dpose( enc_in[1:, ], ax1 )"
   ]
  },
  {
   "cell_type": "markdown",
   "metadata": {},
   "source": [
    "# Trying To Debug the stacked Hourglass Predictions"
   ]
  },
  {
   "cell_type": "markdown",
   "metadata": {},
   "source": [
    "#### Loading the ones processed already by Julia"
   ]
  },
  {
   "cell_type": "code",
   "execution_count": 17,
   "metadata": {},
   "outputs": [
    {
     "name": "stdout",
     "output_type": "stream",
     "text": [
      "Shape :  (1435, 16, 2)\n",
      "poses\n",
      "\n",
      "[[ 736.  463.]\n",
      " [ 756.  463.]\n",
      " [ 749.  621.]\n",
      " [ 749.  724.]\n",
      " [ 708.  463.]\n",
      " [ 694.  621.]\n",
      " [ 701.  724.]\n",
      " [ 729.  318.]\n",
      " [ 729.  298.]\n",
      " [ 722.  291.]\n",
      " [ 681.  312.]\n",
      " [ 612.  318.]\n",
      " [ 516.  312.]\n",
      " [ 777.  318.]\n",
      " [ 839.  332.]\n",
      " [ 894.  332.]]\n",
      "poses_final\n",
      "\n",
      "[ 736.  463.  756.  463.  749.  621.  749.  724.    0.    0.    0.    0.\n",
      "  708.  463.  694.  621.  701.  724.    0.    0.    0.    0.    0.    0.\n",
      "  729.  318.  729.  298.    0.    0.  722.  291.    0.    0.  681.  312.\n",
      "  612.  318.  516.  312.    0.    0.    0.    0.    0.    0.    0.    0.\n",
      "    0.    0.  777.  318.  839.  332.  894.  332.    0.    0.    0.    0.\n",
      "    0.    0.    0.    0.]\n"
     ]
    },
    {
     "data": {
      "image/png": "[encoded data removed]",
      "text/plain": [
       "<matplotlib.figure.Figure at 0x7f767aee6c18>"
      ]
     },
     "metadata": {},
     "output_type": "display_data"
    }
   ],
   "source": [
    "fname = FLAGS.data_dir + 'S11/StackedHourglass/debug/' + 'WalkDog.54138969.h5'\n",
    "\n",
    "import h5py\n",
    "file = h5py.File( fname, 'r' )\n",
    "poses = file['poses'][:]\n",
    "poses = poses[:,SH_TO_GT_PERM,:]\n",
    "\n",
    "print(\"Shape : \", poses.shape)\n",
    "print(\"poses\\n\")\n",
    "print(poses[1, :, :])\n",
    "\n",
    "frame = 1\n",
    "plt.scatter(poses[frame, :, 0], poses[frame, :, 1])\n",
    "\n",
    "poses = np.reshape(poses,[poses.shape[0], -1])\n",
    "poses_final = np.zeros([poses.shape[0], len(H36M_NAMES)*2])\n",
    "\n",
    "dim_to_use_x    = np.where(np.array([x != '' and x != 'Neck/Nose' for x in H36M_NAMES]))[0] * 2\n",
    "dim_to_use_y    = dim_to_use_x+1\n",
    "\n",
    "dim_to_use = np.zeros(len(SH_NAMES)*2,dtype=np.int32)\n",
    "dim_to_use[0::2] = dim_to_use_x\n",
    "dim_to_use[1::2] = dim_to_use_y\n",
    "poses_final[:,dim_to_use] = poses\n",
    "\n",
    "print(\"poses_final\\n\")\n",
    "print(poses_final[frame, :])"
   ]
  },
  {
   "cell_type": "code",
   "execution_count": 33,
   "metadata": {},
   "outputs": [
    {
     "name": "stdout",
     "output_type": "stream",
     "text": [
      "Shape :  (238, 16, 2)\n",
      "[[ 116.  105.]\n",
      " [ 127.  101.]\n",
      " [ 124.  157.]\n",
      " [ 120.  199.]\n",
      " [ 109.  105.]\n",
      " [ 101.  157.]\n",
      " [ 101.  202.]\n",
      " [ 120.   45.]\n",
      " [ 120.   41.]\n",
      " [ 120.   11.]\n",
      " [ 101.   41.]\n",
      " [  75.   45.]\n",
      " [  41.   41.]\n",
      " [ 139.   49.]\n",
      " [ 161.   56.]\n",
      " [ 184.   56.]]\n",
      "poses_final\n",
      "\n",
      "[ 116.  105.  127.  101.  124.  157.  120.  199.    0.    0.    0.    0.\n",
      "  109.  105.  101.  157.  101.  202.    0.    0.    0.    0.    0.    0.\n",
      "  120.   45.  120.   41.    0.    0.  120.   11.    0.    0.  101.   41.\n",
      "   75.   45.   41.   41.    0.    0.    0.    0.    0.    0.    0.    0.\n",
      "    0.    0.  139.   49.  161.   56.  184.   56.    0.    0.    0.    0.\n",
      "    0.    0.    0.    0.]\n"
     ]
    },
    {
     "data": {
      "text/plain": [
       "(array([ 135.09904762,   88.7752381 ,  133.21142857,   88.17904762,\n",
       "         115.09333333,  139.22857143,  120.56380952,  185.54095238,\n",
       "           0.        ,    0.        ,    0.        ,    0.        ,\n",
       "         137.1752381 ,   89.10666667,  114.65333333,  143.06857143,\n",
       "         124.50095238,  195.40761905,    0.        ,    0.        ,\n",
       "           0.        ,    0.        ,    0.        ,    0.        ,\n",
       "         107.30095238,   49.75238095,  104.39619048,   46.16761905,\n",
       "           0.        ,    0.        ,   85.37714286,   30.90095238,\n",
       "           0.        ,    0.        ,  105.54666667,   51.59238095,\n",
       "         104.37904762,   87.7352381 ,   90.8       ,  103.65904762,\n",
       "           0.        ,    0.        ,    0.        ,    0.        ,\n",
       "           0.        ,    0.        ,    0.        ,    0.        ,\n",
       "           0.        ,    0.        ,  108.34857143,   48.26285714,\n",
       "         103.73714286,   82.75238095,   92.93142857,  100.40380952,\n",
       "           0.        ,    0.        ,    0.        ,    0.        ,\n",
       "           0.        ,    0.        ,    0.        ,    0.        ,\n",
       "         135.09904762,   88.7752381 ,  133.21142857,   88.17904762,\n",
       "         115.09333333,  139.22857143,  120.56380952,  185.54095238,\n",
       "           0.        ,    0.        ,    0.        ,    0.        ,\n",
       "         137.1752381 ,   89.10666667,  114.65333333,  143.06857143,\n",
       "         124.50095238,  195.40761905,    0.        ,    0.        ,\n",
       "           0.        ,    0.        ,    0.        ,    0.        ,\n",
       "         107.30095238,   49.75238095,  104.39619048,   46.16761905,\n",
       "           0.        ,    0.        ,   85.37714286,   30.90095238,\n",
       "           0.        ,    0.        ,  105.54666667,   51.59238095,\n",
       "         104.37904762,   87.7352381 ,   90.8       ,  103.65904762,\n",
       "           0.        ,    0.        ,    0.        ,    0.        ,\n",
       "           0.        ,    0.        ,    0.        ,    0.        ,\n",
       "           0.        ,    0.        ,  108.34857143,   48.26285714,\n",
       "         103.73714286,   82.75238095,   92.93142857,  100.40380952,\n",
       "           0.        ,    0.        ,    0.        ,    0.        ,\n",
       "           0.        ,    0.        ,    0.        ,    0.        ]),\n",
       " array([ 19.83977964,  20.89900786,  19.82761573,  20.80774442,\n",
       "         11.76584457,  16.6081203 ,  14.21877447,  10.66997296,\n",
       "          0.        ,   0.        ,   0.        ,   0.        ,\n",
       "         24.2808911 ,  20.91142439,  12.4822851 ,  15.43660038,\n",
       "         16.6306229 ,   5.49957046,   0.        ,   0.        ,\n",
       "          0.        ,   0.        ,   0.        ,   0.        ,\n",
       "         15.36231936,   5.96590464,  18.1954255 ,   9.46927357,\n",
       "          0.        ,   0.        ,  34.94162004,  26.92157391,\n",
       "          0.        ,   0.        ,  17.63363165,   9.26876676,\n",
       "         20.31070886,  19.16982739,  22.81912314,  37.31451829,\n",
       "          0.        ,   0.        ,   0.        ,   0.        ,\n",
       "          0.        ,   0.        ,   0.        ,   0.        ,\n",
       "          0.        ,   0.        ,  23.83807325,   4.8782756 ,\n",
       "         25.61761766,  18.0613668 ,  27.24028989,  35.21002001,\n",
       "          0.        ,   0.        ,   0.        ,   0.        ,\n",
       "          0.        ,   0.        ,   0.        ,   0.        ,\n",
       "         19.83977964,  20.89900786,  19.82761573,  20.80774442,\n",
       "         11.76584457,  16.6081203 ,  14.21877447,  10.66997296,\n",
       "          0.        ,   0.        ,   0.        ,   0.        ,\n",
       "         24.2808911 ,  20.91142439,  12.4822851 ,  15.43660038,\n",
       "         16.6306229 ,   5.49957046,   0.        ,   0.        ,\n",
       "          0.        ,   0.        ,   0.        ,   0.        ,\n",
       "         15.36231936,   5.96590464,  18.1954255 ,   9.46927357,\n",
       "          0.        ,   0.        ,  34.94162004,  26.92157391,\n",
       "          0.        ,   0.        ,  17.63363165,   9.26876676,\n",
       "         20.31070886,  19.16982739,  22.81912314,  37.31451829,\n",
       "          0.        ,   0.        ,   0.        ,   0.        ,\n",
       "          0.        ,   0.        ,   0.        ,   0.        ,\n",
       "          0.        ,   0.        ,  23.83807325,   4.8782756 ,\n",
       "         25.61761766,  18.0613668 ,  27.24028989,  35.21002001,\n",
       "          0.        ,   0.        ,   0.        ,   0.        ,\n",
       "          0.        ,   0.        ,   0.        ,   0.        ]))"
      ]
     },
     "execution_count": 33,
     "metadata": {},
     "output_type": "execute_result"
    },
    {
     "data": {
      "image/png": "[encoded data removed]",
      "text/plain": [
       "<matplotlib.figure.Figure at 0x7f767aee61d0>"
      ]
     },
     "metadata": {},
     "output_type": "display_data"
    }
   ],
   "source": [
    "fname = FLAGS.data_dir + 'S11/StackedHourglass/' + 'WalkDog1.h5'\n",
    "\n",
    "file = h5py.File( fname, 'r' )\n",
    "poses = file['preds'][:]\n",
    "poses = poses[:,SH_TO_GT_PERM,:]\n",
    "\n",
    "print(\"Shape : \", poses.shape)\n",
    "print(poses[1, :, :])\n",
    "\n",
    "frame = 1\n",
    "plt.scatter(poses[frame, :, 0], poses[frame, :, 1])\n",
    "\n",
    "poses = np.reshape(poses,[poses.shape[0], -1])\n",
    "poses_final = np.zeros([poses.shape[0], len(H36M_NAMES)*2])\n",
    "\n",
    "dim_to_use_x    = np.where(np.array([x != '' and x != 'Neck/Nose' for x in H36M_NAMES]))[0] * 2\n",
    "dim_to_use_y    = dim_to_use_x+1\n",
    "\n",
    "dim_to_use = np.zeros(len(SH_NAMES)*2,dtype=np.int32)\n",
    "dim_to_use[0::2] = dim_to_use_x\n",
    "dim_to_use[1::2] = dim_to_use_y\n",
    "poses_final[:,dim_to_use] = poses\n",
    "\n",
    "print(\"poses_final\\n\")\n",
    "print(poses_final[frame, :])\n",
    "\n"
   ]
  },
  {
   "cell_type": "code",
   "execution_count": null,
   "metadata": {},
   "outputs": [],
   "source": []
  }
 ],
 "metadata": {
  "kernelspec": {
   "display_name": "Python 3",
   "language": "python",
   "name": "python3"
  },
  "language_info": {
   "codemirror_mode": {
    "name": "ipython",
    "version": 3
   },
   "file_extension": ".py",
   "mimetype": "text/x-python",
   "name": "python",
   "nbconvert_exporter": "python",
   "pygments_lexer": "ipython3",
   "version": "3.5.2"
  }
 },
 "nbformat": 4,
 "nbformat_minor": 2
}
