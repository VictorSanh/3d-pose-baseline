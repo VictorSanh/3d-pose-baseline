{
 "cells": [
  {
   "cell_type": "code",
   "execution_count": 5,
   "metadata": {},
   "outputs": [],
   "source": [
    "import sys\n",
    "import os.path as OP\n",
    "from os import makedirs\n",
    "from glob import glob\n",
    "import argparse\n",
    "import numpy as np\n",
    "import numpy.linalg as LA\n",
    "# import chumpy as ch\n",
    "# from smpl_webuser.serialization import load_model\n",
    "# from smpl_webuser.lbs import global_rigid_transformation\n",
    "import xml.etree.ElementTree as ET"
   ]
  },
  {
   "cell_type": "code",
   "execution_count": 8,
   "metadata": {},
   "outputs": [],
   "source": [
    "def getJ3dPosFromXML(XMLPath, nameDict=None):\n",
    "    if nameDict is None:\n",
    "        nameDict = {'R_Hip':0,\n",
    "                    'R_Knee':1,\n",
    "                    'R_Ankle':2,\n",
    "                    'L_Hip':3,\n",
    "                    'L_Knee':4,\n",
    "                    'L_Ankle':5,\n",
    "                    'L_Shoulder':6,\n",
    "                    'L_Elbow':7,\n",
    "                    'L_Wrist':8,\n",
    "                    'R_Shoulder':9,\n",
    "                    'R_Elbow':10,\n",
    "                    'R_Wrist':11}\n",
    "    annotation = ET.parse(XMLPath).getroot()\n",
    "    keypoints = annotation.find('keypoints')\n",
    "    GTPos = np.zeros((12,3))\n",
    "    for keypoint in keypoints.findall('keypoint'):\n",
    "        name = keypoint.get('name')\n",
    "        x = float(keypoint.get('x'))\n",
    "        y = float(keypoint.get('y'))\n",
    "        # pay attention: convert to right hand coordinate frame by multiplying -1\n",
    "        z = -1.*float(keypoint.get('z'))\n",
    "        if name in nameDict.keys():\n",
    "            GTPos[nameDict[name]] = np.array([x,y,z])\n",
    "    return GTPos"
   ]
  },
  {
   "cell_type": "code",
   "execution_count": 10,
   "metadata": {},
   "outputs": [],
   "source": [
    "data = getJ3dPosFromXML('../data/manipulation_video/annotation/barbell_0001_f0-78/info/000013_0.xml')"
   ]
  },
  {
   "cell_type": "code",
   "execution_count": 18,
   "metadata": {},
   "outputs": [],
   "source": [
    "def procrustes(A, B):\n",
    "    '''\n",
    "    Solves the orthogonal Procrustes problem given a set of 3D points A (3 x N)\n",
    "    and a set of target 3D points B (3 x N). Namely, it computes a group of\n",
    "    R(otation), t(ranslation) and s(cale) that aligns A with B.\n",
    "    '''\n",
    "    # input check\n",
    "    transposed = False\n",
    "    if A.shape[0]!=3:\n",
    "        A = A.T\n",
    "        B = B.T\n",
    "        transposed = True\n",
    "    N = A.shape[1]\n",
    "    assert(B.shape==(3,N))\n",
    "    # compute mean\n",
    "    a_bar = A.mean(axis=1, keepdims=True)\n",
    "    b_bar = B.mean(axis=1, keepdims=True)\n",
    "    # calculate rotation\n",
    "    A_c = A - a_bar\n",
    "    B_c = B - b_bar\n",
    "    M = A_c.dot(B_c.T)\n",
    "    U, Sigma, Vh = LA.svd(M)\n",
    "    V = Vh.T\n",
    "    Z = np.eye(U.shape[0])\n",
    "    Z[-1,-1] = LA.det(V)*LA.det(U)\n",
    "    R = V.dot(Z.dot(U.T))\n",
    "    # compute scale\n",
    "    s = np.trace(R.dot(M)) / np.trace(A_c.T.dot(A_c))\n",
    "    # compute translation\n",
    "    t = b_bar - s*(R.dot(a_bar))\n",
    "    # compute A after alignment\n",
    "    A_hat = s*(R.dot(A)) + t\n",
    "    if transposed:\n",
    "        A_hat = A_hat.T\n",
    "    return (R, t, s, A_hat)"
   ]
  },
  {
   "cell_type": "code",
   "execution_count": 19,
   "metadata": {},
   "outputs": [
    {
     "data": {
      "text/plain": [
       "(array([[  1.00000000e+00,  -5.00729597e-20,  -2.01102398e-16],\n",
       "        [ -9.16626725e-17,   1.00000000e+00,  -7.77067500e-18],\n",
       "        [ -1.92401960e-16,   9.45373796e-17,   1.00000000e+00]]),\n",
       " array([[ -5.68434189e-14],\n",
       "        [  1.13686838e-13],\n",
       "        [  2.48689958e-14]]),\n",
       " 0.99999999999999967,\n",
       " array([[  2.02500000e+02,   1.80970000e+02,   9.40000000e+00],\n",
       "        [  2.24950000e+02,   2.59870000e+02,   5.61000000e+00],\n",
       "        [  2.30880000e+02,   3.33570000e+02,   1.09800000e+01],\n",
       "        [  2.33230000e+02,   1.75480000e+02,   3.14300000e+01],\n",
       "        [  2.52520000e+02,   2.55080000e+02,   2.54700000e+01],\n",
       "        [  2.53380000e+02,   3.29190000e+02,   2.70900000e+01],\n",
       "        [  2.31930000e+02,   8.74200000e+01,   4.08300000e+01],\n",
       "        [  2.42440000e+02,   1.41080000e+02,   4.34200000e+01],\n",
       "        [  2.74050000e+02,   1.36790000e+02,   1.04100000e+01],\n",
       "        [  1.77770000e+02,   9.64800000e+01,  -2.13334342e-16],\n",
       "        [  1.85700000e+02,   1.50400000e+02,  -5.13000000e+00],\n",
       "        [  2.21240000e+02,   1.45210000e+02,  -3.37200000e+01]]))"
      ]
     },
     "execution_count": 19,
     "metadata": {},
     "output_type": "execute_result"
    }
   ],
   "source": [
    "procrustes(data, data)"
   ]
  },
  {
   "cell_type": "code",
   "execution_count": 20,
   "metadata": {},
   "outputs": [
    {
     "data": {
      "text/plain": [
       "array([[ 202.5 ,  180.97,    9.4 ],\n",
       "       [ 224.95,  259.87,    5.61],\n",
       "       [ 230.88,  333.57,   10.98],\n",
       "       [ 233.23,  175.48,   31.43],\n",
       "       [ 252.52,  255.08,   25.47],\n",
       "       [ 253.38,  329.19,   27.09],\n",
       "       [ 231.93,   87.42,   40.83],\n",
       "       [ 242.44,  141.08,   43.42],\n",
       "       [ 274.05,  136.79,   10.41],\n",
       "       [ 177.77,   96.48,   -0.  ],\n",
       "       [ 185.7 ,  150.4 ,   -5.13],\n",
       "       [ 221.24,  145.21,  -33.72]])"
      ]
     },
     "execution_count": 20,
     "metadata": {},
     "output_type": "execute_result"
    }
   ],
   "source": [
    "data"
   ]
  },
  {
   "cell_type": "code",
   "execution_count": 23,
   "metadata": {},
   "outputs": [
    {
     "data": {
      "text/plain": [
       "array([[ 202.5 ,  180.97,    9.4 ],\n",
       "       [ 224.95,  259.87,    5.61],\n",
       "       [ 230.88,  333.57,   10.98],\n",
       "       [ 233.23,  175.48,   31.43],\n",
       "       [ 252.52,  255.08,   25.47],\n",
       "       [ 253.38,  329.19,   27.09],\n",
       "       [ 231.93,   87.42,   40.83],\n",
       "       [ 242.44,  141.08,   43.42],\n",
       "       [ 274.05,  136.79,   10.41],\n",
       "       [ 177.77,   96.48,   -0.  ],\n",
       "       [ 185.7 ,  150.4 ,   -5.13],\n",
       "       [ 221.24,  145.21,  -33.72]])"
      ]
     },
     "execution_count": 23,
     "metadata": {},
     "output_type": "execute_result"
    }
   ],
   "source": [
    "data.reshape((1,12*3)).reshape((12,3))"
   ]
  },
  {
   "cell_type": "code",
   "execution_count": null,
   "metadata": {},
   "outputs": [],
   "source": []
  }
 ],
 "metadata": {
  "kernelspec": {
   "display_name": "Python 3",
   "language": "python",
   "name": "python3"
  },
  "language_info": {
   "codemirror_mode": {
    "name": "ipython",
    "version": 3
   },
   "file_extension": ".py",
   "mimetype": "text/x-python",
   "name": "python",
   "nbconvert_exporter": "python",
   "pygments_lexer": "ipython3",
   "version": "3.5.2"
  }
 },
 "nbformat": 4,
 "nbformat_minor": 2
}
